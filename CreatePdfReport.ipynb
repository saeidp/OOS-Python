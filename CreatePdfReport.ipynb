{
 "cells": [
  {
   "cell_type": "raw",
   "metadata": {},
   "source": []
  },
  {
   "cell_type": "code",
   "execution_count": null,
   "metadata": {},
   "outputs": [],
   "source": [
    "import nbconvert\n",
    "#!jupyter nbconvert --to html 'OOSVerification.ipynb' --template=OOS_Template.tpl\n",
    "\n",
    "#!jupyter nbconvert --to=pdf --PdfExporter.template_file=./revtex.tplx OOSVerification.ipynb\n",
    "\n",
    "!jupyter nbconvert --to pdf \"OOSVerification.ipynb\" --template=\"OOS_Template.tpl\"\n",
    "#!jupyter nbconvert --to=pdf --PdfExporter.template_file=./revtex.tplx OOSVerification.ipynb\n",
    "\n",
    "#!jupyter nbconvert --to=pdf --PdfExporter.template_file=./OOS_Template.tpl OOSVerification.ipynb\n",
    "\n",
    "#oosVerification = !jupyter nbconvert --to html \"OOSVerification.ipynb\" --template='OOS_Template.tpl' --stdout\n",
    "#from IPython.display import HTML, display\n",
    "#display(HTML('\\n'.join(oosVerification)))\n",
    "#template = env.get_template(\"myreport.html\")\n"
   ]
  },
  {
   "cell_type": "code",
   "execution_count": null,
   "metadata": {},
   "outputs": [],
   "source": []
  },
  {
   "cell_type": "code",
   "execution_count": null,
   "metadata": {},
   "outputs": [],
   "source": []
  }
 ],
 "metadata": {
  "kernelspec": {
   "display_name": "Python 3",
   "language": "python",
   "name": "python3"
  },
  "language_info": {
   "codemirror_mode": {
    "name": "ipython",
    "version": 3
   },
   "file_extension": ".py",
   "mimetype": "text/x-python",
   "name": "python",
   "nbconvert_exporter": "python",
   "pygments_lexer": "ipython3",
   "version": "3.7.1"
  }
 },
 "nbformat": 4,
 "nbformat_minor": 2
}
