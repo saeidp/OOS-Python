{
 "cells": [
  {
   "cell_type": "markdown",
   "metadata": {
    "collapsed": true
   },
   "source": [
    "<style>\n",
    "//change background settings {}\n",
    "div.slide-background {\n",
    "border-top: 30px crimson solid;\n",
    "border-bottom: 30px crimson solid;\n",
    "}|\n",
    "</style>"
   ]
  },
  {
   "cell_type": "markdown",
   "metadata": {},
   "source": [
    "<style>\n",
    "//change background settings {}\n",
    "div.slide-background {\n",
    "\tborder-top: 30px crimson solid;\n",
    "\tborder-bottom: 30px crimson solid;\n",
    "}\n",
    "</style>"
   ]
  },
  {
   "cell_type": "code",
   "execution_count": 12,
   "metadata": {},
   "outputs": [],
   "source": [
    "%matplotlib inline\n",
    "import os\n",
    "import sys\n",
    "import numpy as np\n",
    "import matplotlib.pyplot as plt\n",
    "from scipy.spatial import distance"
   ]
  },
  {
   "cell_type": "markdown",
   "metadata": {},
   "source": [
    "<style>\n",
    "//change background settings {}\n",
    "div.slide-background {\n",
    "\tborder-top: 30px crimson solid;\n",
    "\tborder-bottom: 30px crimson solid;\n",
    "}\n",
    "</style>"
   ]
  },
  {
   "cell_type": "code",
   "execution_count": 14,
   "metadata": {},
   "outputs": [
    {
     "data": {
      "image/png": "[encoded data removed]",
      "text/plain": [
       "<Figure size 432x288 with 1 Axes>"
      ]
     },
     "metadata": {
      "needs_background": "light"
     },
     "output_type": "display_data"
    }
   ],
   "source": [
    "#def my_plotter(ax, data1, data2, param_dict):\n",
    "#    out = ax.plot(data1, data2, **param_dict)\n",
    "#    return out\n",
    "\n",
    "def my_plotter(ax, data1, data2, param_dict):\n",
    "    ax.plot(data1, data2, **param_dict)\n",
    "\n",
    "\n",
    "\n",
    "fileName= \"pipelinerouteBRUP.TXT\"\n",
    "viewingWindow = 50\n",
    "kpArray = []\n",
    "eastingArray= []\n",
    "northingArray = []\n",
    "depthArray = []\n",
    "segmentStdDevs = []\n",
    "\n",
    "pipeCounter = 0\n",
    "limitReached = False\n",
    "listing = open(fileName, 'r')\n",
    "for line in listing:\n",
    "    kp, easting, northing, depth = line.split(',')\n",
    "    kpArray.append(float(kp))\n",
    "    eastingArray.append(float(easting))\n",
    "    northingArray.append(float(northing))\n",
    "    depthArray.append(float(depth))\n",
    "\n",
    "# Start rolling window processing\n",
    "for pipeCounter in range(0, len(kpArray) - 1):\n",
    "    if limitReached:\n",
    "        continue\n",
    "    \n",
    "    segmentDistance = 0\n",
    "    kpViewingArray = []\n",
    "    eastingViewingArray = []\n",
    "    northingViewingArray = []\n",
    "    depthViewingArray = []\n",
    "    windowCounter = 0\n",
    "    \n",
    "    while segmentDistance < viewingWindow :\n",
    "        # Check if we have reached the furthest extents of the route where we can\n",
    "        # calculate a standard deviation of the full viewing window length\n",
    "        # if we have, then we need to stop here\n",
    "        if pipeCounter + windowCounter >= len(kpArray) -1:\n",
    "            limitReached = True\n",
    "        \n",
    "        kpViewingArray.append(kpArray[pipeCounter + windowCounter])\n",
    "        eastingViewingArray.append(eastingArray[pipeCounter + windowCounter])\n",
    "        northingViewingArray.append(northingArray[pipeCounter + windowCounter])\n",
    "        depthViewingArray.append(depthArray[pipeCounter + windowCounter])\n",
    "\n",
    "        if windowCounter > 1:\n",
    "            segmentDistance = segmentDistance + distance.euclidean([eastingArray[pipeCounter + windowCounter], northingArray[pipeCounter + windowCounter], depthArray[pipeCounter + windowCounter]],\n",
    "                                                                    [eastingArray[pipeCounter + windowCounter - 1], northingArray[pipeCounter + windowCounter - 1], depthArray[pipeCounter + windowCounter - 1]])\n",
    "        \n",
    "        windowCounter = windowCounter + 1\n",
    "            \n",
    "        \n",
    "    eastingFit  = np.polyfit(np.array(kpViewingArray), np.array(eastingViewingArray), 2)\n",
    "    northingFit  = np.polyfit(np.array(kpViewingArray), np.array(northingViewingArray), 2)\n",
    "    depthFit = np.polyfit(np.array(kpViewingArray), np.array(depthViewingArray), 2)\n",
    "    polyEastFunction = np.poly1d(eastingFit)\n",
    "    polyNorthFunction = np.poly1d(northingFit)\n",
    "    polyDepthFunction = np.poly1d(depthFit)\n",
    "    \n",
    "    viewingWindowSize = windowCounter\n",
    "    windowCounter = 0\n",
    "    segmentDistances = []\n",
    "    \n",
    "    for x in range(0, viewingWindowSize):\n",
    "        smoothEasting = polyEastFunction(kpViewingArray[x])\n",
    "        smoothNorthing = polyNorthFunction(kpViewingArray[x])\n",
    "        smoothDepth = polyDepthFunction(kpViewingArray[x])\n",
    "        #print(str(smoothEasting), str(smoothNorthing))\n",
    "        segmentDistance = distance.euclidean([smoothEasting, smoothNorthing, smoothDepth], [eastingViewingArray[x], northingViewingArray[x], depthViewingArray[x]])\n",
    "        segmentDistances.append(segmentDistance)\n",
    "\n",
    "    segmentStdDev = np.std(np.array(segmentDistances))\n",
    "    segmentStdDevs.append(segmentStdDev)\n",
    "    \n",
    "fig, ax = plt.subplots(1, 1)\n",
    "my_plotter(ax, np.array(kpArray[0:len(segmentStdDevs)]), np.array(segmentStdDevs), {'marker': 'x'})\n",
    "plt.show(block=True)\n"
   ]
  },
  {
   "cell_type": "code",
   "execution_count": null,
   "metadata": {},
   "outputs": [],
   "source": []
  },
  {
   "cell_type": "code",
   "execution_count": 7,
   "metadata": {},
   "outputs": [
    {
     "data": {
      "text/plain": [
       "<function print>"
      ]
     },
     "execution_count": 7,
     "metadata": {},
     "output_type": "execute_result"
    }
   ],
   "source": [
    "\n"
   ]
  },
  {
   "cell_type": "code",
   "execution_count": null,
   "metadata": {
    "collapsed": true
   },
   "outputs": [],
   "source": []
  }
 ],
 "metadata": {
  "kernelspec": {
   "display_name": "Python 3",
   "language": "python",
   "name": "python3"
  },
  "language_info": {
   "codemirror_mode": {
    "name": "ipython",
    "version": 3
   },
   "file_extension": ".py",
   "mimetype": "text/x-python",
   "name": "python",
   "nbconvert_exporter": "python",
   "pygments_lexer": "ipython3",
   "version": "3.7.1"
  }
 },
 "nbformat": 4,
 "nbformat_minor": 2
}
